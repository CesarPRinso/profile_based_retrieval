{
  "nbformat": 4,
  "nbformat_minor": 0,
  "metadata": {
    "colab": {
      "provenance": []
    },
    "kernelspec": {
      "name": "python3",
      "display_name": "Python 3"
    },
    "language_info": {
      "name": "python"
    }
  },
  "cells": [
    {
      "cell_type": "code",
      "metadata": {
        "id": "wqRSs4Hima6z"
      },
      "source": [
        "import re\n",
        "import nltk\n",
        "import random\n",
        "import numpy as np\n",
        "import pandas as pd\n",
        "from textblob import Word\n",
        "from sklearn.svm import SVC\n",
        "from sklearn.neural_network import MLPClassifier\n",
        "from sklearn.model_selection import train_test_split\n",
        "from sklearn.ensemble import RandomForestClassifier\n",
        "from sklearn.feature_extraction.text import TfidfVectorizer\n",
        "from sklearn.metrics import classification_report, accuracy_score"
      ],
      "execution_count": 20,
      "outputs": []
    },
    {
      "cell_type": "code",
      "source": [
        "nltk.download('omw-1.4')"
      ],
      "metadata": {
        "id": "hA8frEbGgY4e",
        "outputId": "a595be5e-bee0-4265-eb18-365e42516368",
        "colab": {
          "base_uri": "https://localhost:8080/"
        }
      },
      "execution_count": 22,
      "outputs": [
        {
          "output_type": "stream",
          "name": "stderr",
          "text": [
            "[nltk_data] Downloading package omw-1.4 to /root/nltk_data...\n",
            "[nltk_data]   Package omw-1.4 is already up-to-date!\n"
          ]
        },
        {
          "output_type": "execute_result",
          "data": {
            "text/plain": [
              "True"
            ]
          },
          "metadata": {},
          "execution_count": 22
        }
      ]
    },
    {
      "cell_type": "code",
      "source": [
        "!python3 -m textblob.download_corpora"
      ],
      "metadata": {
        "id": "B7jahS61gChH",
        "outputId": "b431faa0-2777-4e7d-b4bb-6a111c042beb",
        "colab": {
          "base_uri": "https://localhost:8080/"
        }
      },
      "execution_count": 23,
      "outputs": [
        {
          "output_type": "stream",
          "name": "stdout",
          "text": [
            "[nltk_data] Downloading package brown to /root/nltk_data...\n",
            "[nltk_data]   Package brown is already up-to-date!\n",
            "[nltk_data] Downloading package punkt to /root/nltk_data...\n",
            "[nltk_data]   Package punkt is already up-to-date!\n",
            "[nltk_data] Downloading package wordnet to /root/nltk_data...\n",
            "[nltk_data]   Package wordnet is already up-to-date!\n",
            "[nltk_data] Downloading package averaged_perceptron_tagger to\n",
            "[nltk_data]     /root/nltk_data...\n",
            "[nltk_data]   Package averaged_perceptron_tagger is already up-to-\n",
            "[nltk_data]       date!\n",
            "[nltk_data] Downloading package conll2000 to /root/nltk_data...\n",
            "[nltk_data]   Package conll2000 is already up-to-date!\n",
            "[nltk_data] Downloading package movie_reviews to /root/nltk_data...\n",
            "[nltk_data]   Package movie_reviews is already up-to-date!\n",
            "Finished.\n"
          ]
        }
      ]
    },
    {
      "cell_type": "markdown",
      "source": [
        "## Data preparation"
      ],
      "metadata": {
        "id": "Bud9KavgdMyS"
      }
    },
    {
      "cell_type": "code",
      "source": [
        "def clean_string(string):\n",
        "\n",
        "    string = re.sub(r\"\\'s\", \"\", string)\n",
        "    string = re.sub(r\"\\'ve\", \"\", string)\n",
        "    string = re.sub(r\"n\\'t\", \"\", string)\n",
        "    string = re.sub(r\"\\'re\", \"\", string)\n",
        "    string = re.sub(r\"\\'d\", \"\", string)\n",
        "    string = re.sub(r\"\\'ll\", \"\", string)\n",
        "    string = re.sub(r\",\", \"\", string)\n",
        "    string = re.sub(r\"!\", \" ! \", string)\n",
        "    string = re.sub(r\"\\(\", \"\", string)\n",
        "    string = re.sub(r\"\\)\", \"\", string)\n",
        "    string = re.sub(r\"\\?\", \"\", string)\n",
        "    string = re.sub(r\"'\", \"\", string)\n",
        "    string = re.sub(r\"[^A-Za-z0-9(),!?\\'\\`]\", \" \", string)\n",
        "    string = re.sub(r\"[0-9]\\w+|[0-9]\", \"\", string)\n",
        "    string = re.sub(r\"\\s{2,}\", \" \", string)\n",
        "\n",
        "    return string.strip().lower()\n",
        "\n",
        "\n",
        "def prepare_dataset(dataset):\n",
        "    # divide in features and labels\n",
        "    x = dataset['news'].tolist()\n",
        "    y = dataset['type'].tolist()\n",
        "    print(\"\\n--------------------------------------------------------\")\n",
        "    print(\"------------------- DATA PREPARATION -------------------\")\n",
        "    print(\"--------------------------------------------------------\\n\")\n",
        "    print(\"Tokenization & lemmatization\", end='', flush=True)\n",
        "    for i, value in enumerate(x):\n",
        "        x[i] = ' '.join([Word(word).lemmatize() for word in clean_string(value).split()])\n",
        "        if(i%100==0):\n",
        "            print('.', end='', flush=True)\n",
        "    print(\"DONE!\\n\")\n",
        "    X_train, X_test, y_train, y_test = train_test_split(x, y, test_size=0.20, random_state=42)\n",
        "    vect = TfidfVectorizer(stop_words='english', min_df=2)\n",
        "\n",
        "    X_train = vect.fit_transform(X_train)\n",
        "    y_train = np.array(y_train)\n",
        "    X_test = vect.transform(X_test)\n",
        "    y_test = np.array(y_test)\n",
        "    X_val, X_test, y_val, y_test = train_test_split(X_test, y_test, test_size=0.50, random_state=42)\n",
        "\n",
        "    print(\"Train set:\" + str(X_train.shape))\n",
        "    print(\"Validation set:\" + str(X_val.shape))\n",
        "    print(\"Test set:\" + str(X_test.shape))\n",
        "\n",
        "    return X_train, X_val, X_test, y_train, y_val, y_test, vect"
      ],
      "metadata": {
        "id": "g5hzRqY_c7a2"
      },
      "execution_count": 24,
      "outputs": []
    },
    {
      "cell_type": "markdown",
      "source": [
        "## Models"
      ],
      "metadata": {
        "id": "yR0oyiFyegYY"
      }
    },
    {
      "cell_type": "code",
      "source": [
        "\n",
        "def train_RF(X_train, y_train):\n",
        "    print(\"-------------------\")\n",
        "    print(\"-- RANDOM FOREST --\")\n",
        "    print(\"-------------------\")\n",
        "    model = RandomForestClassifier(n_estimators=300, max_depth=150, n_jobs=1)\n",
        "    model.fit(X_train, y_train)\n",
        "    return model\n",
        "\n",
        "\n",
        "def train_NN(X_train, y_train):\n",
        "    print(\"-------------------\")\n",
        "    print(\"- NEURAL  NETWORK -\")\n",
        "    print(\"-------------------\")\n",
        "    model = MLPClassifier(activation='relu', alpha=1e-05, batch_size='auto',\n",
        "                          beta_1=0.9, beta_2=0.999, early_stopping=True,\n",
        "                          epsilon=1e-08, hidden_layer_sizes=(128, 64),\n",
        "                          learning_rate='constant', learning_rate_init=0.001,\n",
        "                          max_iter=400, momentum=0.9, n_iter_no_change=10,\n",
        "                          nesterovs_momentum=True, power_t=0.5, random_state=1,\n",
        "                          shuffle=True, solver='lbfgs', tol=0.0001,\n",
        "                          validation_fraction=0.1, verbose=False, warm_start=False)\n",
        "    model.fit(X_train, y_train)\n",
        "    return model\n",
        "\n",
        "\n",
        "def train_SVC(X_train, y_train):\n",
        "    print(\"-------------------\")\n",
        "    print(\"------- SVM -------\")\n",
        "    print(\"-------------------\")\n",
        "    model = SVC(kernel='linear', gamma='auto')\n",
        "    model.fit(X_train, y_train)\n",
        "    return model\n",
        "\n",
        "\n",
        "def eval_model(model, X_val, y_val):\n",
        "    y_pred = model.predict(X_val)\n",
        "    result = classification_report(y_val, y_pred)\n",
        "    accSVC = accuracy_score(y_val, y_pred)\n",
        "    print(result)\n",
        "    print(\"\\nAccuracy: \", accSVC)\n",
        "\n",
        "\n",
        "def test_model(model, X_test, y_test):\n",
        "    y_pred = model.predict(X_test)\n",
        "    acc = accuracy_score(y_test, y_pred)\n",
        "    return acc"
      ],
      "metadata": {
        "id": "dUcwPrbWesk-"
      },
      "execution_count": 25,
      "outputs": []
    },
    {
      "cell_type": "markdown",
      "source": [
        "## Configuration "
      ],
      "metadata": {
        "id": "vOdnOCEEfe0a"
      }
    },
    {
      "cell_type": "code",
      "source": [
        "PREFERENCES = [\"business\", \"entertainment\", \"politics\", \"sport\", \"tech\"]\n",
        "\n",
        "class bcolors:\n",
        "    PURPLE = '\\033[95m'\n",
        "    BLUE = '\\033[94m'\n",
        "    GREEN = '\\033[92m'\n",
        "    YELLOW = '\\033[93m'\n",
        "    RED = '\\033[91m'\n",
        "    ENDC = '\\033[0m'\n",
        "    BOLD = '\\033[1m'\n",
        "    UNDERLINE = '\\033[4m'\n",
        "\n",
        "\n",
        "def assign_preferences(users):\n",
        "    users_with_preferences = {}\n",
        "    for user in users:\n",
        "        preferences = []\n",
        "        possibilities = list(PREFERENCES)\n",
        "        for pref in range(random.randint(1, 3)):\n",
        "            category = random.choice(possibilities)\n",
        "            preferences.append(category)\n",
        "            possibilities.remove(category)\n",
        "        users_with_preferences[user] = preferences\n",
        "    return users_with_preferences\n",
        "\n",
        "\n",
        "def predict_doc_type(doc, vect, model):\n",
        "    doc_cleaned = clean_string(doc)\n",
        "    corpus = []\n",
        "    corpus.append(doc_cleaned)\n",
        "    test_vect = vect.transform(corpus)\n",
        "    return model.predict(test_vect)[0]\n",
        "\n",
        "\n",
        "# Testing results\n",
        "def run_demo(vect, model):\n",
        "    users = [\"Maria   \", \"Nacho   \", \"Luca    \", \"Adam    \", \"Tom     \", \"Mike    \"]\n",
        "    users_with_preferences = assign_preferences(users)\n",
        "    print(\"\\n--------------------------------------------------------\")\n",
        "    print(\"------------------------- DEMO -------------------------\")\n",
        "    print(\"--------------------------------------------------------\\n\")\n",
        "\n",
        "    print(\"--------------------------------------------------------\\n\")\n",
        "    print(\"USER PREFERENCES:\")\n",
        "    for user in users_with_preferences:\n",
        "        print(user, \" -> \", users_with_preferences[user])\n",
        "    print(\"\\n--------------------------------------------------------\")\n",
        "\n",
        "    while True:\n",
        "        try:\n",
        "            print(\"---------------------------------------------------------------------------------------------------------------\")\n",
        "            test_corpus = input(bcolors.BOLD + \"Paste here an article without newline characters (\\\\n) (Press 'q' to quit or 'r' to reassign the preferences):\\n\" + bcolors.ENDC)\n",
        "            print(\"---------------------------------------------------------------------------------------------------------------\")\n",
        "        except ValueError:\n",
        "            continue\n",
        "        if test_corpus == \"q\":\n",
        "            break\n",
        "        if test_corpus == \"r\":\n",
        "            users_with_preferences = assign_preferences(users)\n",
        "            print(\"--------------------------------------------------------\\n\")\n",
        "            print(\"USER PREFERENCES:\")\n",
        "            for user in users_with_preferences:\n",
        "                print(user, \"->  \", users_with_preferences[user])\n",
        "            print(\"\\n--------------------------------------------------------\")\n",
        "            continue\n",
        "        else:\n",
        "\n",
        "            result = predict_doc_type(test_corpus, vect, model)\n",
        "            if(result == \"business\"):\n",
        "                topic = bcolors.BOLD + bcolors.YELLOW + result.upper() + bcolors.ENDC\n",
        "            if (result == \"entertainment\"):\n",
        "                topic = bcolors.BOLD + bcolors.RED + result.upper() + bcolors.ENDC\n",
        "            if (result == \"politics\"):\n",
        "                topic = bcolors.BOLD + bcolors.PURPLE + result.upper() + bcolors.ENDC\n",
        "            if (result == \"sport\"):\n",
        "                topic = bcolors.BOLD + bcolors.BLUE + result.upper() + bcolors.ENDC\n",
        "            if (result == \"tech\"):\n",
        "                topic = bcolors.BOLD + bcolors.GREEN + result.upper() + bcolors.ENDC\n",
        "            print(\"--------------------------------------------------------\\n\")\n",
        "            print(bcolors.BOLD + \"This article talks about \"+ topic + bcolors.BOLD + \" and it's addressed to:\"+bcolors.ENDC)\n",
        "            for user in users_with_preferences:\n",
        "                if result in users_with_preferences[user]:\n",
        "                    print(user)\n",
        "            print(\"\\n--------------------------------------------------------\")\n",
        "            continue"
      ],
      "metadata": {
        "id": "cyRCck9Sfgw2"
      },
      "execution_count": 26,
      "outputs": []
    },
    {
      "cell_type": "markdown",
      "source": [
        "## Main"
      ],
      "metadata": {
        "id": "Lv0SF3mVfQT1"
      }
    },
    {
      "cell_type": "code",
      "source": [
        "# DATA PREPARATION\n",
        "dataset = pd.read_csv('dataset.csv', encoding=\"ISO-8859-1\")\n",
        "X_train, X_val, X_test, y_train, y_val, y_test, vect = prepare_dataset(dataset)\n",
        "\n",
        "# MODELS TRAINING\n",
        "print(\"\\n--------------------------------------------------------\")\n",
        "print(\"------------------- MODELS  TRAINING -------------------\")\n",
        "print(\"--------------------------------------------------------\\n\")\n",
        "\n",
        "# Random Forest\n",
        "modelRF = train_RF(X_train, y_train)\n",
        "eval_model(modelRF, X_val, y_val)\n",
        "# SVM\n",
        "modelSVC = train_SVC(X_train, y_train)\n",
        "eval_model(modelSVC, X_val, y_val)\n",
        "# NN\n",
        "modelNN = train_NN(X_train, y_train)\n",
        "eval_model(modelNN, X_val, y_val)\n",
        "\n",
        "# MODELS TESTING\n",
        "print(\"\\n--------------------------------------------------------\")\n",
        "print(\"-------------- MODELS  TESTING (accuracy) --------------\")\n",
        "print(\"--------------------------------------------------------\\n\")\n",
        "print(\"RANDOM FOREST:     \", test_model(modelRF, X_test, y_test))\n",
        "print(\"SVC:               \", test_model(modelSVC, X_test, y_test))\n",
        "print(\"NEURAL NETWORK:    \", test_model(modelNN, X_test, y_test))\n"
      ],
      "metadata": {
        "id": "HH4ynfZpfRPj",
        "outputId": "a4fc4c20-2fd7-42ac-f5df-dcffcc6e2684",
        "colab": {
          "base_uri": "https://localhost:8080/"
        }
      },
      "execution_count": 29,
      "outputs": [
        {
          "output_type": "stream",
          "name": "stdout",
          "text": [
            "\n",
            "--------------------------------------------------------\n",
            "------------------- DATA PREPARATION -------------------\n",
            "--------------------------------------------------------\n",
            "\n",
            "Tokenization & lemmatization.......................DONE!\n",
            "\n",
            "Train set:(1780, 13197)\n",
            "Validation set:(222, 13197)\n",
            "Test set:(223, 13197)\n",
            "\n",
            "--------------------------------------------------------\n",
            "------------------- MODELS  TRAINING -------------------\n",
            "--------------------------------------------------------\n",
            "\n",
            "-------------------\n",
            "-- RANDOM FOREST --\n",
            "-------------------\n",
            "               precision    recall  f1-score   support\n",
            "\n",
            "     business       0.98      0.95      0.96        56\n",
            "entertainment       0.97      0.94      0.96        36\n",
            "     politics       0.89      0.97      0.93        40\n",
            "        sport       1.00      1.00      1.00        54\n",
            "         tech       0.97      0.94      0.96        36\n",
            "\n",
            "     accuracy                           0.96       222\n",
            "    macro avg       0.96      0.96      0.96       222\n",
            " weighted avg       0.97      0.96      0.96       222\n",
            "\n",
            "\n",
            "Accuracy:  0.963963963963964\n",
            "-------------------\n",
            "------- SVM -------\n",
            "-------------------\n",
            "               precision    recall  f1-score   support\n",
            "\n",
            "     business       0.96      0.93      0.95        56\n",
            "entertainment       0.97      0.94      0.96        36\n",
            "     politics       0.89      0.97      0.93        40\n",
            "        sport       1.00      1.00      1.00        54\n",
            "         tech       0.97      0.94      0.96        36\n",
            "\n",
            "     accuracy                           0.96       222\n",
            "    macro avg       0.96      0.96      0.96       222\n",
            " weighted avg       0.96      0.96      0.96       222\n",
            "\n",
            "\n",
            "Accuracy:  0.9594594594594594\n",
            "-------------------\n",
            "- NEURAL  NETWORK -\n",
            "-------------------\n",
            "               precision    recall  f1-score   support\n",
            "\n",
            "     business       0.98      0.95      0.96        56\n",
            "entertainment       0.97      0.94      0.96        36\n",
            "     politics       0.91      1.00      0.95        40\n",
            "        sport       1.00      1.00      1.00        54\n",
            "         tech       1.00      0.97      0.99        36\n",
            "\n",
            "     accuracy                           0.97       222\n",
            "    macro avg       0.97      0.97      0.97       222\n",
            " weighted avg       0.97      0.97      0.97       222\n",
            "\n",
            "\n",
            "Accuracy:  0.972972972972973\n",
            "\n",
            "--------------------------------------------------------\n",
            "-------------- MODELS  TESTING (accuracy) --------------\n",
            "--------------------------------------------------------\n",
            "\n",
            "RANDOM FOREST:      0.9551569506726457\n",
            "SVC:                0.9641255605381166\n",
            "NEURAL NETWORK:     0.9551569506726457\n"
          ]
        }
      ]
    },
    {
      "cell_type": "code",
      "source": [
        "# RUN THE DEMO\n",
        "run_demo(vect, modelNN)"
      ],
      "metadata": {
        "id": "0-9ijizffrG_",
        "outputId": "efe0c1d8-6ba4-44da-cc7c-20e77d2128cb",
        "colab": {
          "base_uri": "https://localhost:8080/"
        }
      },
      "execution_count": 31,
      "outputs": [
        {
          "output_type": "stream",
          "name": "stdout",
          "text": [
            "\n",
            "--------------------------------------------------------\n",
            "------------------------- DEMO -------------------------\n",
            "--------------------------------------------------------\n",
            "\n",
            "--------------------------------------------------------\n",
            "\n",
            "USER PREFERENCES:\n",
            "Maria     ->  ['sport']\n",
            "Nacho     ->  ['entertainment', 'tech', 'politics']\n",
            "Luca      ->  ['entertainment']\n",
            "Adam      ->  ['politics', 'business', 'sport']\n",
            "Tom       ->  ['entertainment', 'sport', 'tech']\n",
            "Mike      ->  ['tech', 'sport', 'entertainment']\n",
            "\n",
            "--------------------------------------------------------\n",
            "---------------------------------------------------------------------------------------------------------------\n",
            "\u001b[1mPaste here an article without newline characters (\\n) (Press 'q' to quit or 'r' to reassign the preferences):\n",
            "\u001b[0mFollowing the introduction of Apple’s iOS Screen Time feature, a number of app developers who created screen-tracking and parental control apps have been asked to change their products, or have been booted from the App Store completely, according to a new report in The New York Times. The Times says that “Apple has removed or restricted at least 11 of the 17 most downloaded screen-time and parental-control apps,” as well as a number of others. The report cites users who point out that Apple’s Screen Time app has some drawbacks that the popular third-party apps came with, like the ability to shut down certain apps, less-granular scheduling, and that children were able to work around Apple’s web-filtering tools. They also pointed out that third-party apps could be used across iOS and Android platforms, making it difficult for parents to oversee Android devices. The report features interviews with developers who found their apps pulled from the store abruptly, faced unclear and vague instructions for changes, or unresponsive support from the company. In many cases, the developers note that being booted from the App store can be devastating to their companies — Amir Moussavian the CEO of OurPact, says that 80 percent of its revenue came from the App Store. Apple maintains that the apps violated its rules, that third-party apps could gather too much data on devices, and that the actions weren’t related to the company’s debut of its own screen-monitoring tools. Earlier this week, developers for two apps, Kidslox and Qustodio, filed an antitrust complaint against Apple in the European Union, and last month, Kaspersky Lab filed an antitrust complaint after its own screen-time management app was removed from the store. They aren’t the first to be worried about the company’s reach when it comes to the App Store: Spotify filed an antitrust complaint of its own against Apple, saying that the technology company was giving itself an unfair advantage against third-party music streaming services.\n",
            "---------------------------------------------------------------------------------------------------------------\n",
            "--------------------------------------------------------\n",
            "\n",
            "\u001b[1mThis article talks about \u001b[1m\u001b[92mTECH\u001b[0m\u001b[1m and it's addressed to:\u001b[0m\n",
            "Nacho   \n",
            "Tom     \n",
            "Mike    \n",
            "\n",
            "--------------------------------------------------------\n",
            "---------------------------------------------------------------------------------------------------------------\n",
            "\u001b[1mPaste here an article without newline characters (\\n) (Press 'q' to quit or 'r' to reassign the preferences):\n",
            "\u001b[0mq\n",
            "---------------------------------------------------------------------------------------------------------------\n"
          ]
        }
      ]
    },
    {
      "cell_type": "code",
      "source": [],
      "metadata": {
        "id": "oFzd8uDThsk_"
      },
      "execution_count": null,
      "outputs": []
    }
  ]
}